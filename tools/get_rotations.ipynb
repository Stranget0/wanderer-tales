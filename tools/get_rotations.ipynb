{
 "cells": [
  {
   "cell_type": "code",
   "execution_count": 29,
   "metadata": {},
   "outputs": [
    {
     "name": "stdout",
     "output_type": "stream",
     "text": [
      "length =  210\n"
     ]
    }
   ],
   "source": [
    "import itertools\n",
    "\n",
    "def minimal_rotation_shiloach(s):\n",
    "      # Concatenate the string with itself to handle circularity\n",
    "    s += s\n",
    "    n = len(s)\n",
    "    \n",
    "    # Initialize variables for the minimal rotation point and current offset\n",
    "    i = 0\n",
    "    j = 1\n",
    "    k = 0\n",
    "    \n",
    "    while i < n and j < n and k < n:\n",
    "        comp = s[(i+k) % n] - s[(j+k) % n]\n",
    "        if comp == 0:\n",
    "            k += 1\n",
    "        else:\n",
    "            if comp > 0:\n",
    "                i += k + 1\n",
    "            else:\n",
    "                j += k + 1\n",
    "            if i == j:\n",
    "                j += 1\n",
    "            k = 0\n",
    "    \n",
    "    # Find the minimal rotation point\n",
    "    rotation_point = min(i, j)\n",
    "    \n",
    "    # Extract the minimal rotation\n",
    "    minimal_rotation = s[rotation_point:rotation_point + n // 2]\n",
    "    \n",
    "    return minimal_rotation[:len(s) // 2]\n",
    "\n",
    "dict = {}\n",
    "for v in itertools.combinations_with_replacement(range(-2,3),6):\n",
    "    dict[minimal_rotation_shiloach(v)] = True\n",
    "\n",
    "res = list(map(lambda x: list(x), dict.keys()))\n",
    "# print(res)\n",
    "print(\"length = \", len(res))"
   ]
  }
 ],
 "metadata": {
  "kernelspec": {
   "display_name": "Python 3",
   "language": "python",
   "name": "python3"
  },
  "language_info": {
   "codemirror_mode": {
    "name": "ipython",
    "version": 3
   },
   "file_extension": ".py",
   "mimetype": "text/x-python",
   "name": "python",
   "nbconvert_exporter": "python",
   "pygments_lexer": "ipython3",
   "version": "3.10.8"
  }
 },
 "nbformat": 4,
 "nbformat_minor": 2
}
